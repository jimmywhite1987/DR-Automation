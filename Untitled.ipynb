{
 "cells": [
  {
   "cell_type": "code",
   "execution_count": 1,
   "id": "d491afb4",
   "metadata": {},
   "outputs": [],
   "source": [
    "import pandas as pd"
   ]
  },
  {
   "cell_type": "code",
   "execution_count": 2,
   "id": "88987b45",
   "metadata": {},
   "outputs": [],
   "source": [
    "from splinter import Browser\n",
    "from bs4 import BeautifulSoup\n",
    "from webdriver_manager.chrome import ChromeDriverManager\n",
    "from flask_pymongo import PyMongo\n",
    "from flask import Flask"
   ]
  },
  {
   "cell_type": "code",
   "execution_count": 3,
   "id": "d22bd815",
   "metadata": {},
   "outputs": [
    {
     "name": "stderr",
     "output_type": "stream",
     "text": [
      "\n",
      "\n",
      "====== WebDriver manager ======\n",
      "Current google-chrome version is 96.0.4664\n",
      "Get LATEST driver version for 96.0.4664\n",
      "Driver [/Users/jameswhite/.wdm/drivers/chromedriver/mac64/96.0.4664.45/chromedriver] found in cache\n"
     ]
    }
   ],
   "source": [
    "executable_path = {'executable_path': ChromeDriverManager().install()}\n",
    "browser = Browser('chrome', **executable_path, headless=False)"
   ]
  },
  {
   "cell_type": "code",
   "execution_count": 4,
   "id": "69a08812",
   "metadata": {},
   "outputs": [],
   "source": [
    "url = 'https://elanthipedia.play.net/Category:Weapons'\n",
    "browser.visit(url)"
   ]
  },
  {
   "cell_type": "code",
   "execution_count": 5,
   "id": "730e1be6",
   "metadata": {},
   "outputs": [],
   "source": [
    "html = browser.html\n",
    "soup = BeautifulSoup(html, 'lxml')\n",
    "\n",
    "headlines = soup.find_all('div', class_='mw-category-group')\n",
    "\n"
   ]
  },
  {
   "cell_type": "code",
   "execution_count": 8,
   "id": "e27fc35d",
   "metadata": {},
   "outputs": [
    {
     "data": {
      "text/plain": [
       "['\"\\nWeapon:\"ATTENTION STARVED\" arrow\\nWeapon:\"BOOT LICKER\" bolt\\nWeapon:\"BROWN-NOSER\" bolt\\nWeapon:\"CAPITULATE\" arrow\\nWeapon:\"CAUTION: POINTY\" spear\\nWeapon:\"CLOTPOLE\" bolt\\nWeapon:\"COME AT ME\" arrow\\nWeapon:\"DIE!\" pellet\\nWeapon:\"DONE YET?\" spear\\nWeapon:\"DOOFUS\" pellet\\nWeapon:\"FLAP-DRAGON\" bolt\\nWeapon:\"FLAX-WENCH\" arrow\\nWeapon:\"FROG-WART\" bolt\\nWeapon:\"GET WELL SOON\" spear\\nWeapon:\"GOBLIN-FACE\" bolt\\nWeapon:\"GOBSNOT\" spear\\nWeapon:\"GOOBER\" arrow\\nWeapon:\"GOT ISSUES\" arrow\\nWeapon:\"GOT ISSUES\" bolt\\nWeapon:\"GROUND-SWILL\" arrow\\nWeapon:\"HA-HA\" spear\\nWeapon:\"HANDS OFF\" spear\\nWeapon:\"HARPY\" pellet\\nWeapon:\"HEDGE-PIG\" arrow\\nWeapon:\"I DARE YOU\" arrow\\nWeapon:\"JACK-A-NAPE\" bolt\\nWeapon:\"JOLTHEAD\" bolt\\nWeapon:\"KISS OFF\" bolt\\nWeapon:\"LAZY\" arrow\\nWeapon:\"LEECH BREATH\" bolt\\nWeapon:\"LEWDSTER\" arrow\\nWeapon:\"LINE SKIPPER\" arrow\\nWeapon:\"LOUT\" pellet\\nWeapon:\"MAGGOT\" pellet\\nWeapon:\"MAGGOT\"-PIE bolt\\nWeapon:\"MUMBLE-NEWS\" arrow\\nWeapon:\"MUSH-HEAD\" bolt\\nWeapon:\"NEVER AGAIN\" spear\\nWeapon:\"NO YOU\" arrow\\nWeapon:\"NO YOU\" bolt\\nWeapon:\"NOPE\" spear\\nWeapon:\"NOT IT\" bolt\\nWeapon:\"OPEN SEASON\" spear\\nWeapon:\"OUT OF MY WAY!\" bolt\\nWeapon:\"PORRIDGE-BRAIN\" arrow\\nWeapon:\"REFUSE-EATER\" pellet\\nWeapon:\"RETURN THIS\" spear\\nWeapon:\"RUDESBY\" pellet\\nWeapon:\"SCAB-FOR-BRAINS\" pellet\\nWeapon:\"SCRAM!\" spear\\nWeapon:\"SCUT\" pellet\\nWeapon:\"SEE MY POINT?\" spear\\nWeapon:\"SERIOUSLY?\" pellet\\nWeapon:\"SHOVE OFF\" spear\\nWeapon:\"SKAINSMATE\" arrow\\nWeapon:\"SNERT\" arrow\\nWeapon:\"SNERT\" pellet\\nWeapon:\"SNERT\" spear\\nWeapon:\"SNIPE\" pellet\\nWeapon:\"SNOTTY IMP\" spear\\nWeapon:\"SUCK-UP\" bolt\\nWeapon:\"SUCKER\" pellet\\nWeapon:\"TAG\" arrow\\nWeapon:\"TEARS TO YOU!\" pellet\\nWeapon:\"THAT\\'S MINE\" spear\\nWeapon:\"THIS WON\\'T HURT\" spear\\nWeapon:\"TICKLE TICKLE\" spear\\nWeapon:\"TOE-LICKER\" spear\\nWeapon:\"TRY THAT AGAIN\" pellet\\nWeapon:\"VIPER-LICKER\" bolt\\nWeapon:\"WHIPSTER\" bolt\\nWeapon:\"WITH A SLING!\" pellet\\nWeapon:\"WORM-HEAD\" arrow\\nWeapon:\"YOU WIN\" arrow\\nWeapon:\"YOU WIN\" bolt',\n",
       " 'A\\nA chitinous blade spider leg\\nWeapon:A leaf-bladed spear set with cambrinth rings\\nWeapon:Abalone-inlaid walnut crossbow\\nAbassi\\nWeapon:Abassi (1)\\nWeapon:Abassi (2)\\nWeapon:Abassi (crafted)\\nWeapon:Abyssal black haledroth elbow spikes\\nWeapon:Abyssal black haledroth footwraps\\nWeapon:Abyssal black haledroth knee spikes\\nWeapon:Abyssal black haledroth knuckles\\nWeapon:Acanth staff sling with silk whipcords\\nWeapon:Acanth wood arbalest carved with tiny vines\\nWeapon:Acid-etched broadsword with a smooth bone hilt\\nWeapon:Acid-etched cutlass\\nWeapon:Acid-etched jeweled longsword\\nWeapon:Acid-etched nimsha with a carved dragon\\'s blood crystal pommel\\nWeapon:Acid-etched sabre\\nWeapon:Acid-etched sabre with a black opal-inlaid pommel\\nWeapon:Acid-etched steel horseshoe stamped with the crest of the Paladins\\' Guild\\nWeapon:Acid-etched tei\\'oloh\\'ata\\nWeapon:Acid-etched two-handed sword with quillions shaped like writhing serpents\\nWeapon:Adder-shaped sacrificial dagger\\nWeapon:Adderwood belaying pin banded with red stripes\\nWeapon:Adderwood cane with a black gold snake\\'s head topper\\nWeapon:Adderwood latchbow set with serpent\\'s heart rubies\\nWeapon:Adderwood shortbow shaped like twin serpents\\nWeapon:Admiral\\'s cane topped with a tempest sapphire\\nWeapon:Admiral\\'s cutlass with a fancifully engraved hilt\\nWeapon:Admiral\\'s light crossbow crafted from smooth ebonwood\\nAdze\\nWeapon:Adze\\nWeapon:Adze (2)\\nWeapon:Adze (crafted)\\nWeapon:Aesetani applewood shortbow\\nWeapon:Aesetani applewood staff inlaid with sana\\'ati hearts\\nWeapon:Aesfilt blade\\nWeapon:Agonite back-sword with a dragon fire opal set in the pommel\\nWeapon:Agonite broadsword with a dragon fire opal set in the pommel\\nWeapon:Agonite judge\\'s gavel wrapped in pale crimson kirmiko\\nWeapon:Agonite longsword with a dragon fire opal set in the pommel\\nWeapon:Agonite mace with a head cast in the shape of a frog\\nWeapon:Agonite spatha with a dragon fire opal set in the pommel\\nAkabo\\nWeapon:Akabo (1)\\nWeapon:Akabo (2)\\nWeapon:Akabo (crafted)\\nWeapon:Akren dzelt\\nWeapon:Alabaster unicorn hobbyhorse\\nWeapon:Alavern-hilted haledroth longsword\\nWeapon:Albarco blowgun dart with colorful iridescent flights\\nWeapon:Aldamdin longsword etched with funnel-web spiders along the blade\\nWeapon:Aldamdin staff etched with numerous sigils\\nWeapon:Alder gut-stringed longbow with a cracked leather grip\\nWeapon:Alder gut-stringed shortbow with a cracked leather grip\\nWeapon:Alder handled throwing hammer\\nWeapon:Alerce battle crossbow encrusted with blush-hued rubies\\nWeapon:Alerce-covered treatise entitled \"Whoops!\"\\nWeapon:Alerce-hilted throwing hammer with a shark-shaped head\\nAllarh\\nWeapon:Allarh\\nWeapon:Allarh (crafted)\\nWeapon:Alpine crossbow with a magenta boltplate\\nWeapon:Amber gold fist\\nWeapon:Amethyst-tinted sabre adorned with an ivory scrimshaw pommel\\nWeapon:Angiswaerd arrow\\nWeapon:Angiswaerd bolt\\nWeapon:Angiswaerd fang handwraps\\nWeapon:Animite war hammer with a polished head\\nWeapon:Antiquated curved-bladed khukri\\nWeapon:Antique cup-hilted rapier\\nWeapon:Antique harvester\\'s sickle restored with a sharpened blade of curved glaes\\nWeapon:Antique swept-hilt rapier\\nWeapon:Antiqued silver-edged broadsword with a snake-shaped brass guard and falcon pommel\\nWeapon:Antler fragment\\nWeapon:Antler-handled carving knife etched with bolts of fractured lightning\\nWeapon:Antler-hilted kanabu\\nWeapon:Apple cores\\nArbalest\\nWeapon:Arbalest\\nWeapon:Archaeologist\\'s vardite round point shovel with a warped ironwood handle\\nArrow\\nWeapon:Arrow\\nWeapon:Arsenic-black scepter studded with purple gold\\nArzfilt\\nWeapon:Arzfilt\\nWeapon:Arzfilt (crafted)\\nWeapon:Ash and teak composite bow with a bleached leather grip\\nWeapon:Ash handled splitting maul\\nWeapon:Ash longbow\\nWeapon:Ash pilum with a steel tip\\nWeapon:Ash short bow\\nWeapon:Ash staff sling with wool whipcords\\nWeapon:Ash-hafted halberd with a jagged red-bronze blade\\nWeapon:Ash-hafted partisan etched with silvered unicorns\\nWeapon:Ash-hafted short hammer with a haralun head\\nWeapon:Ash-hafted whaling spear\\nWeapon:Ash-handled pike\\nWeapon:Ash-handled war hammer\\nWeapon:Ash-hilted oben with an enameled pommel\\nWeapon:Ash-rubbed scimitar with a silver hilt\\nWeapon:Asharsh\\'dai wildland machete with an elaborately sculpted Imperial coral\\nWeapon:Asharsh\\'dai wildland machete with an elaborately sculpted Imperial coral handle\\nWeapon:Asini duraka skefne adorned with jaguar-pelt\\nWeapon:Asini icepick\\nWeapon:Asini pitchfork inset with pink topaz pigs along the haft\\nWeapon:Assassin\\'s blade worked from lamp-blackened vardite\\nWeapon:Assassin\\'s dagger\\nWeapon:Assassin\\'s dagger etched with a rearing dragon\\nWeapon:Assassin\\'s throwing blade with a serrated edge\\nAta\\nAtapwi\\nWeapon:Atapwi\\nWeapon:Athame with a fireball-shaped ruby inlaid in the handle\\nWeapon:Athame with a jade leaf inlaid in the handle\\nWeapon:Athame with a star-cut diamond inlaid in the handle\\nWeapon:Athame with an abyssal quartz inlaid in the handle\\nWeapon:Athame with an anloral triskele inlaid in the handle\\nAtlatl\\nWeapon:Aubergine cypress longbow with a leaf-green leather grip\\nWeapon:Audrualm dire mace forged with a repeating snowflake pattern\\nWeapon:Audrualm-edged claymore with an intricately engraved crossguard\\nWeapon:Audrualm-legged blade spider\\nWeapon:Austere aspen staff carved with intricate geometric sigils down its length\\nAva (weapon)']"
      ]
     },
     "execution_count": 8,
     "metadata": {},
     "output_type": "execute_result"
    }
   ],
   "source": [
    "headlines_list = []\n",
    "\n",
    "for category in headlines:\n",
    "    title = category.text.strip()\n",
    "    headlines_list.append(title)\n",
    "    \n",
    "headlines_list"
   ]
  },
  {
   "cell_type": "code",
   "execution_count": null,
   "id": "e5498f72",
   "metadata": {},
   "outputs": [],
   "source": []
  },
  {
   "cell_type": "code",
   "execution_count": null,
   "id": "e9efca86",
   "metadata": {},
   "outputs": [],
   "source": []
  },
  {
   "cell_type": "code",
   "execution_count": null,
   "id": "cbc9925d",
   "metadata": {},
   "outputs": [],
   "source": []
  }
 ],
 "metadata": {
  "kernelspec": {
   "display_name": "TensorFlow",
   "language": "python",
   "name": "tensorflow"
  },
  "language_info": {
   "codemirror_mode": {
    "name": "ipython",
    "version": 3
   },
   "file_extension": ".py",
   "mimetype": "text/x-python",
   "name": "python",
   "nbconvert_exporter": "python",
   "pygments_lexer": "ipython3",
   "version": "3.8.8"
  }
 },
 "nbformat": 4,
 "nbformat_minor": 5
}
